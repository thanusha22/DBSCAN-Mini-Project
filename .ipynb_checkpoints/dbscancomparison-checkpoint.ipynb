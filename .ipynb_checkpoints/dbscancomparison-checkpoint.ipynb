{
 "cells": [
  {
   "cell_type": "code",
   "execution_count": 1,
   "metadata": {},
   "outputs": [],
   "source": [
    "# Import libraries\n",
    "import pandas as pd\n",
    "import numpy as np\n",
    "import matplotlib.pyplot as plt\n",
    "import math\n",
    "import time\n",
    "from py import metrics"
   ]
  },
  {
   "cell_type": "code",
   "execution_count": 2,
   "metadata": {},
   "outputs": [],
   "source": [
    "def getNeighbours(data, corePoint, eps):\n",
    "    \n",
    "    def EuclideanDistance(p1, p2):\n",
    "        return  np.sqrt(np.sum(np.square(p1 - p2)))\n",
    "    \n",
    "    neighbours = []\n",
    "    \n",
    "    for i in range(len(data)):\n",
    "        dist = EuclideanDistance(data[i], data[corePoint])\n",
    "        \n",
    "        if dist < eps:\n",
    "            neighbours.append(i)\n",
    "            \n",
    "    return neighbours"
   ]
  },
  {
   "cell_type": "code",
   "execution_count": 3,
   "metadata": {},
   "outputs": [],
   "source": [
    "def dbScan(data, eps, MinPts):\n",
    "    \"\"\"\n",
    "    Impletmentation of Density-based spatial clustering of applications with noise(DBSCAN) \n",
    "    @param Input Data\n",
    "    @param epsilon value\n",
    "    @param Minimum number of points\n",
    "    @return Predicted labels by DBSCAN clustering\n",
    "    \"\"\"\n",
    "    def growCluster(data, labels, corePoint, \n",
    "                    neighbours, clusterID, eps, MinPts):\n",
    "        labels[corePoint] = clusterID\n",
    "        i = 0\n",
    "        while i < len(neighbours):    \n",
    "            nh = neighbours[i]\n",
    "\n",
    "            if labels[nh] == -1:\n",
    "                labels[nh] = clusterID\n",
    "            elif labels[nh] == 0:\n",
    "                labels[nh] = clusterID\n",
    "                PnNeighbours = getNeighbours(data, nh, eps)\n",
    "\n",
    "                if len(PnNeighbours) >= MinPts:\n",
    "                    neighbours = neighbours + PnNeighbours\n",
    "            i += 1\n",
    "            \n",
    "    labels = np.zeros(len(data))\n",
    "    clusterID = 0\n",
    "    \n",
    "    for p in range(len(data)):\n",
    "        if labels[p] == 0:\n",
    "            neighbours = getNeighbours(data, p, eps)\n",
    "            \n",
    "            if len(neighbours) < MinPts:\n",
    "                labels[p] = -1\n",
    "            else:\n",
    "                clusterID += 1\n",
    "                growCluster(data, labels, p, neighbours, \n",
    "                            clusterID, eps, MinPts)\n",
    "                \n",
    "    return labels"
   ]
  },
  {
   "cell_type": "code",
   "execution_count": 4,
   "metadata": {},
   "outputs": [],
   "source": [
    "def numNoise(labels):\n",
    "    \"\"\"\n",
    "    @param labels: Predicted labels\n",
    "    @return number of noise determined by cluster algorithm \n",
    "    \"\"\"\n",
    "    return int(abs(np.sum(labels[labels < 0])))\n",
    "    \n",
    "def nClusters(labels):\n",
    "    \"\"\"\n",
    "    @param labels: Predicted labels\n",
    "    @return number of cluseters \n",
    "    \"\"\"\n",
    "    return len(np.unique(labels[labels > 0]))"
   ]
  },
  {
   "cell_type": "code",
   "execution_count": 6,
   "metadata": {},
   "outputs": [],
   "source": [
    "pathBased = pd.read_csv('dataset1.csv', \n",
    "                        names = ['value_1','value_2','true_label'],  \n",
    "                        header=None)\n",
    "c=10\n",
    "pbX = pathBased.iloc[:,[0,1]]\n",
    "pby = pathBased.iloc[:,[2]]"
   ]
  },
  {
   "cell_type": "code",
   "execution_count": 7,
   "metadata": {},
   "outputs": [
    {
     "name": "stderr",
     "output_type": "stream",
     "text": [
      "C:\\ProgramData\\Anaconda3\\lib\\site-packages\\pandas\\core\\indexing.py:1047: SettingWithCopyWarning: \n",
      "A value is trying to be set on a copy of a slice from a DataFrame.\n",
      "Try using .loc[row_indexer,col_indexer] = value instead\n",
      "\n",
      "See the caveats in the documentation: https://pandas.pydata.org/pandas-docs/stable/user_guide/indexing.html#returning-a-view-versus-a-copy\n",
      "  self.obj[item_labels[indexer[info_axis]]] = value\n"
     ]
    },
    {
     "ename": "NameError",
     "evalue": "name 'numClusters' is not defined",
     "output_type": "error",
     "traceback": [
      "\u001b[1;31m---------------------------------------------------------------------------\u001b[0m",
      "\u001b[1;31mNameError\u001b[0m                                 Traceback (most recent call last)",
      "\u001b[1;32m<ipython-input-7-d7fbea3f2c41>\u001b[0m in \u001b[0;36m<module>\u001b[1;34m\u001b[0m\n\u001b[0;32m      1\u001b[0m \u001b[1;32mfor\u001b[0m \u001b[0mcolumn\u001b[0m \u001b[1;32min\u001b[0m \u001b[0mpbX\u001b[0m\u001b[1;33m.\u001b[0m\u001b[0mcolumns\u001b[0m\u001b[1;33m:\u001b[0m\u001b[1;33m\u001b[0m\u001b[1;33m\u001b[0m\u001b[0m\n\u001b[0;32m      2\u001b[0m     \u001b[0mpbX\u001b[0m\u001b[1;33m.\u001b[0m\u001b[0mloc\u001b[0m\u001b[1;33m[\u001b[0m\u001b[1;33m:\u001b[0m\u001b[1;33m,\u001b[0m \u001b[0mcolumn\u001b[0m\u001b[1;33m]\u001b[0m \u001b[1;33m=\u001b[0m \u001b[1;33m(\u001b[0m\u001b[0mpbX\u001b[0m\u001b[1;33m[\u001b[0m\u001b[0mcolumn\u001b[0m\u001b[1;33m]\u001b[0m\u001b[1;33m.\u001b[0m\u001b[0mvalues\u001b[0m \u001b[1;33m-\u001b[0m \u001b[0mpbX\u001b[0m\u001b[1;33m[\u001b[0m\u001b[0mcolumn\u001b[0m\u001b[1;33m]\u001b[0m\u001b[1;33m.\u001b[0m\u001b[0mmin\u001b[0m\u001b[1;33m(\u001b[0m\u001b[1;33m)\u001b[0m\u001b[1;33m)\u001b[0m\u001b[1;33m/\u001b[0m\u001b[1;33m(\u001b[0m\u001b[0mpbX\u001b[0m\u001b[1;33m[\u001b[0m\u001b[0mcolumn\u001b[0m\u001b[1;33m]\u001b[0m\u001b[1;33m.\u001b[0m\u001b[0mmax\u001b[0m\u001b[1;33m(\u001b[0m\u001b[1;33m)\u001b[0m \u001b[1;33m-\u001b[0m \u001b[0mpbX\u001b[0m\u001b[1;33m[\u001b[0m\u001b[0mcolumn\u001b[0m\u001b[1;33m]\u001b[0m\u001b[1;33m.\u001b[0m\u001b[0mmin\u001b[0m\u001b[1;33m(\u001b[0m\u001b[1;33m)\u001b[0m\u001b[1;33m)\u001b[0m\u001b[1;33m\u001b[0m\u001b[1;33m\u001b[0m\u001b[0m\n\u001b[1;32m----> 3\u001b[1;33m \u001b[0macc\u001b[0m \u001b[1;33m=\u001b[0m \u001b[1;33m(\u001b[0m\u001b[0mnumClusters\u001b[0m\u001b[1;33m)\u001b[0m\u001b[1;33m/\u001b[0m\u001b[0mlen\u001b[0m\u001b[1;33m(\u001b[0m\u001b[0mlabels\u001b[0m\u001b[1;33m)\u001b[0m\u001b[1;33m*\u001b[0m\u001b[0mc\u001b[0m\u001b[1;33m\u001b[0m\u001b[1;33m\u001b[0m\u001b[0m\n\u001b[0m\u001b[0;32m      4\u001b[0m \u001b[0mplt\u001b[0m\u001b[1;33m.\u001b[0m\u001b[0mscatter\u001b[0m\u001b[1;33m(\u001b[0m\u001b[0mpbX\u001b[0m\u001b[1;33m[\u001b[0m\u001b[1;34m'value_1'\u001b[0m\u001b[1;33m]\u001b[0m\u001b[1;33m,\u001b[0m\u001b[0mpbX\u001b[0m\u001b[1;33m[\u001b[0m\u001b[1;34m'value_2'\u001b[0m\u001b[1;33m]\u001b[0m\u001b[1;33m)\u001b[0m\u001b[1;33m\u001b[0m\u001b[1;33m\u001b[0m\u001b[0m\n\u001b[0;32m      5\u001b[0m \u001b[0mplt\u001b[0m\u001b[1;33m.\u001b[0m\u001b[0mshow\u001b[0m\u001b[1;33m(\u001b[0m\u001b[1;33m)\u001b[0m\u001b[1;33m\u001b[0m\u001b[1;33m\u001b[0m\u001b[0m\n",
      "\u001b[1;31mNameError\u001b[0m: name 'numClusters' is not defined"
     ]
    }
   ],
   "source": [
    "for column in pbX.columns:\n",
    "    pbX.loc[:, column] = (pbX[column].values - pbX[column].min())/(pbX[column].max() - pbX[column].min())\n",
    "      \n",
    "plt.scatter(pbX['value_1'],pbX['value_2'])\n",
    "plt.show()"
   ]
  },
  {
   "cell_type": "code",
   "execution_count": 109,
   "metadata": {},
   "outputs": [],
   "source": [
    "sT = 0.5*time.time()\n",
    "labels = dbScan(pbX.values, 0.12, 4)\n",
    "eT = 1.5*time.time()\n",
    "numClusters = nClusters(labels)\n",
    "acc = (numClusters)/len(labels)*c\n",
    "pby.loc[:,'predict_label'] = labels"
   ]
  },
  {
   "cell_type": "code",
   "execution_count": 110,
   "metadata": {},
   "outputs": [
    {
     "name": "stdout",
     "output_type": "stream",
     "text": [
      "number of clusters = 6\n",
      "number of noise points = 28\n",
      "accuracy:  0.0\n",
      "DBSCAN took 1590908057.590 microseconds\n"
     ]
    },
    {
     "data": {
      "image/png": "[encoded data removed]",
      "text/plain": [
       "<Figure size 432x288 with 1 Axes>"
      ]
     },
     "metadata": {
      "needs_background": "light"
     },
     "output_type": "display_data"
    }
   ],
   "source": [
    "print('number of clusters = {}'.format(numClusters))\n",
    "print('number of noise points = {}'.format(numNoise(labels)))\n",
    "print(\"accuracy: \",acc)\n",
    "print('DBSCAN took {:.3f} microseconds'.format(eT-sT))\n",
    "\n",
    "\n",
    "plt.scatter(pbX['value_1'],pbX['value_2'], c = labels)\n",
    "plt.show()"
   ]
  },
  {
   "cell_type": "code",
   "execution_count": null,
   "metadata": {},
   "outputs": [],
   "source": []
  },
  {
   "cell_type": "code",
   "execution_count": null,
   "metadata": {},
   "outputs": [],
   "source": []
  }
 ],
 "metadata": {
  "kernelspec": {
   "display_name": "Python 3",
   "language": "python",
   "name": "python3"
  },
  "language_info": {
   "codemirror_mode": {
    "name": "ipython",
    "version": 3
   },
   "file_extension": ".py",
   "mimetype": "text/x-python",
   "name": "python",
   "nbconvert_exporter": "python",
   "pygments_lexer": "ipython3",
   "version": "3.7.6"
  }
 },
 "nbformat": 4,
 "nbformat_minor": 4
}

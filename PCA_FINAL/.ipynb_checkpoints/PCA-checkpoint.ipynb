{
 "cells": [
  {
   "cell_type": "code",
   "execution_count": 1,
   "metadata": {},
   "outputs": [],
   "source": [
    "%matplotlib inline\n",
    "import numpy as np\n",
    "import matplotlib.pyplot as plt\n",
    "import seaborn as sns; sns.set()\n",
    "import pandas as pd\n",
    "from sklearn.preprocessing import LabelEncoder, StandardScaler\n",
    "from sklearn.decomposition import PCA\n",
    "from sklearn.model_selection import train_test_split\n",
    "import warnings\n",
    "warnings.filterwarnings(\"ignore\")"
   ]
  },
  {
   "cell_type": "code",
   "execution_count": 2,
   "metadata": {},
   "outputs": [],
   "source": [
    "data = pd.read_csv(\"dataset1.csv\")\n",
    "#X = np.dot(rng.rand(2, 2), rng.randn(2, 200)).T\n",
    "#X=np.dot(data.(2,2), data.randn(2,200)).T\n",
    "#plt.scatter(X[:, 0], X[:, 1])\n",
    "#plt.axis('equal');\n",
    "#m_data = pd.read_csv('mushrooms.csv')\n",
    "\n",
    "\n",
    "# string characters into ints\n",
    "\n",
    "encoder = LabelEncoder()\n",
    "\n",
    "# Now apply the transformation to all the columns:\n",
    "for col in data.columns:\n",
    "    data[col] = encoder.fit_transform(data[col])\n",
    "\n",
    "X_features = data.iloc[:,1:23]\n",
    "y_label = data.iloc[:, 2]"
   ]
  },
  {
   "cell_type": "code",
   "execution_count": 3,
   "metadata": {},
   "outputs": [],
   "source": [
    "scaler = StandardScaler()\n",
    "X_features = scaler.fit_transform(X_features)"
   ]
  },
  {
   "cell_type": "code",
   "execution_count": 4,
   "metadata": {},
   "outputs": [],
   "source": [
    "pca = PCA()\n",
    "pca.fit_transform(X_features)\n",
    "pca_variance = pca.explained_variance_\n"
   ]
  },
  {
   "cell_type": "code",
   "execution_count": 5,
   "metadata": {},
   "outputs": [
    {
     "data": {
      "image/png": "[encoded data removed]",
      "text/plain": [
       "<Figure size 576x432 with 1 Axes>"
      ]
     },
     "metadata": {},
     "output_type": "display_data"
    },
    {
     "data": {
      "text/plain": [
       "<Figure size 576x432 with 0 Axes>"
      ]
     },
     "metadata": {},
     "output_type": "display_data"
    }
   ],
   "source": [
    "pca2 = PCA(n_components=2)\n",
    "pca2.fit(X_features)\n",
    "x_3d = pca2.transform(X_features)\n",
    "plt.figure(figsize=(8,6))\n",
    "plt.scatter(x_3d[:,1], x_3d[:,0])\n",
    "plt.figure(figsize=(8,6))\n",
    "#plt.scatter(X_features[:, 0], X_features[:, 1])\n",
    "plt.show()"
   ]
  },
  {
   "cell_type": "code",
   "execution_count": 6,
   "metadata": {},
   "outputs": [
    {
     "name": "stdout",
     "output_type": "stream",
     "text": [
      "[0.50005244 0.33333333]\n"
     ]
    }
   ],
   "source": [
    "pca = PCA(n_components=2, svd_solver='full')\n",
    "pca.fit(X_features)\n",
    "PCA(n_components=2, svd_solver='full')\n",
    "print(pca.explained_variance_ratio_)"
   ]
  },
  {
   "cell_type": "code",
   "execution_count": 7,
   "metadata": {},
   "outputs": [
    {
     "data": {
      "image/png": "[encoded data removed]",
      "text/plain": [
       "<Figure size 576x432 with 1 Axes>"
      ]
     },
     "metadata": {},
     "output_type": "display_data"
    }
   ],
   "source": [
    "pca2 = PCA(n_components=2)\n",
    "pca2.fit(X_features)\n",
    "x_3d = pca2.transform(X_features)\n",
    "\n",
    "plt.figure(figsize=(8,6))\n",
    "plt.scatter(X_features[:, 0], X_features[:, 1])\n",
    "plt.show()"
   ]
  },
  {
   "cell_type": "code",
   "execution_count": null,
   "metadata": {},
   "outputs": [],
   "source": []
  },
  {
   "cell_type": "code",
   "execution_count": null,
   "metadata": {},
   "outputs": [],
   "source": []
  }
 ],
 "metadata": {
  "kernelspec": {
   "display_name": "Python 3",
   "language": "python",
   "name": "python3"
  },
  "language_info": {
   "codemirror_mode": {
    "name": "ipython",
    "version": 3
   },
   "file_extension": ".py",
   "mimetype": "text/x-python",
   "name": "python",
   "nbconvert_exporter": "python",
   "pygments_lexer": "ipython3",
   "version": "3.7.4"
  }
 },
 "nbformat": 4,
 "nbformat_minor": 2
}
